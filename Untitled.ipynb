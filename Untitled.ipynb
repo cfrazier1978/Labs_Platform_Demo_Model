{
 "cells": [
  {
   "cell_type": "code",
   "execution_count": null,
   "id": "5b761084-f089-449a-b8c6-71404d17c519",
   "metadata": {},
   "outputs": [],
   "source": [
    "pandas==1.1.5"
   ]
  }
 ],
 "metadata": {
  "kernelspec": {
   "display_name": "Python 3 (ipykernel)",
   "language": "python",
   "name": "python3"
  },
  "language_info": {
   "codemirror_mode": {
    "name": "ipython",
    "version": 3
   },
   "file_extension": ".py",
   "mimetype": "text/x-python",
   "name": "python",
   "nbconvert_exporter": "python",
   "pygments_lexer": "ipython3",
   "version": "3.9.7"
  }
 },
 "nbformat": 4,
 "nbformat_minor": 5
}
